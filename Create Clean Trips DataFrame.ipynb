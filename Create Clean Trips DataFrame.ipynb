{
 "cells": [
  {
   "cell_type": "markdown",
   "metadata": {},
   "source": [
    "# Create Clean Trips DataFrame"
   ]
  },
  {
   "cell_type": "markdown",
   "metadata": {},
   "source": [
    "## Create Station Classifier"
   ]
  },
  {
   "cell_type": "code",
   "execution_count": 1,
   "metadata": {},
   "outputs": [],
   "source": [
    "import pandas as pd\n",
    "import json\n",
    "import os\n",
    "import numpy as np\n",
    "import glob"
   ]
  },
  {
   "cell_type": "markdown",
   "metadata": {},
   "source": [
    "## Import Raw Station Data"
   ]
  },
  {
   "cell_type": "code",
   "execution_count": 2,
   "metadata": {},
   "outputs": [],
   "source": [
    "import requests\n",
    "\n",
    "# Set url for API call\n",
    "url = 'https://gbfs.capitalbikeshare.com/gbfs/fr/station_information.json'\n",
    "\n",
    "# Make call and set data to variable\n",
    "resp = requests.get(url=url)\n",
    "station_data = resp.json()"
   ]
  },
  {
   "cell_type": "markdown",
   "metadata": {},
   "source": [
    "## Create Station DataFrame"
   ]
  },
  {
   "cell_type": "code",
   "execution_count": 3,
   "metadata": {},
   "outputs": [],
   "source": [
    "# Parse JSON to find relevant data\n",
    "station_df = pd.DataFrame.from_records(station_data['data']['stations'])"
   ]
  },
  {
   "cell_type": "code",
   "execution_count": 4,
   "metadata": {
    "scrolled": true
   },
   "outputs": [
    {
     "data": {
      "text/html": [
       "<div>\n",
       "<style scoped>\n",
       "    .dataframe tbody tr th:only-of-type {\n",
       "        vertical-align: middle;\n",
       "    }\n",
       "\n",
       "    .dataframe tbody tr th {\n",
       "        vertical-align: top;\n",
       "    }\n",
       "\n",
       "    .dataframe thead th {\n",
       "        text-align: right;\n",
       "    }\n",
       "</style>\n",
       "<table border=\"1\" class=\"dataframe\">\n",
       "  <thead>\n",
       "    <tr style=\"text-align: right;\">\n",
       "      <th></th>\n",
       "      <th>capacity</th>\n",
       "      <th>eightd_has_key_dispenser</th>\n",
       "      <th>eightd_station_services</th>\n",
       "      <th>electric_bike_surcharge_waiver</th>\n",
       "      <th>external_id</th>\n",
       "      <th>has_kiosk</th>\n",
       "      <th>lat</th>\n",
       "      <th>lon</th>\n",
       "      <th>name</th>\n",
       "      <th>region_id</th>\n",
       "      <th>rental_methods</th>\n",
       "      <th>rental_url</th>\n",
       "      <th>short_name</th>\n",
       "      <th>station_id</th>\n",
       "    </tr>\n",
       "  </thead>\n",
       "  <tbody>\n",
       "    <tr>\n",
       "      <th>0</th>\n",
       "      <td>19</td>\n",
       "      <td>False</td>\n",
       "      <td>[{'id': '5029b3a1-a049-46f9-a13c-c7ffef2bb88c'...</td>\n",
       "      <td>False</td>\n",
       "      <td>08249be7-1f3f-11e7-bf6b-3863bb334450</td>\n",
       "      <td>True</td>\n",
       "      <td>38.902221</td>\n",
       "      <td>-77.059219</td>\n",
       "      <td>Georgetown Harbor / 30th St NW</td>\n",
       "      <td>42</td>\n",
       "      <td>[KEY, CREDITCARD]</td>\n",
       "      <td>http://app.capitalbikeshare.com/vIiR/zVsfTIsOT...</td>\n",
       "      <td>31215</td>\n",
       "      <td>72</td>\n",
       "    </tr>\n",
       "    <tr>\n",
       "      <th>1</th>\n",
       "      <td>23</td>\n",
       "      <td>False</td>\n",
       "      <td>[{'id': '6944e559-dc16-4a55-9125-e2c3256e294e'...</td>\n",
       "      <td>False</td>\n",
       "      <td>0824aa39-1f3f-11e7-bf6b-3863bb334450</td>\n",
       "      <td>True</td>\n",
       "      <td>38.900283</td>\n",
       "      <td>-77.029822</td>\n",
       "      <td>13th St &amp; New York Ave NW</td>\n",
       "      <td>42</td>\n",
       "      <td>[KEY, CREDITCARD]</td>\n",
       "      <td>http://app.capitalbikeshare.com/vIiR/zVsfTIsOT...</td>\n",
       "      <td>31227</td>\n",
       "      <td>91</td>\n",
       "    </tr>\n",
       "    <tr>\n",
       "      <th>2</th>\n",
       "      <td>35</td>\n",
       "      <td>False</td>\n",
       "      <td>[{'id': '2a0089f1-ce95-4633-9471-61b0f70b7c08'...</td>\n",
       "      <td>False</td>\n",
       "      <td>0824c80d-1f3f-11e7-bf6b-3863bb334450</td>\n",
       "      <td>True</td>\n",
       "      <td>38.902061</td>\n",
       "      <td>-77.038322</td>\n",
       "      <td>17th &amp; K St NW / Farragut Square</td>\n",
       "      <td>42</td>\n",
       "      <td>[KEY, CREDITCARD]</td>\n",
       "      <td>http://app.capitalbikeshare.com/vIiR/zVsfTIsOT...</td>\n",
       "      <td>31233</td>\n",
       "      <td>106</td>\n",
       "    </tr>\n",
       "    <tr>\n",
       "      <th>3</th>\n",
       "      <td>15</td>\n",
       "      <td>False</td>\n",
       "      <td>NaN</td>\n",
       "      <td>False</td>\n",
       "      <td>082469cc-1f3f-11e7-bf6b-3863bb334450</td>\n",
       "      <td>True</td>\n",
       "      <td>38.858971</td>\n",
       "      <td>-77.053230</td>\n",
       "      <td>Eads St &amp; 15th St S</td>\n",
       "      <td>41</td>\n",
       "      <td>[KEY, CREDITCARD]</td>\n",
       "      <td>http://app.capitalbikeshare.com/vIiR/zVsfTIsOT...</td>\n",
       "      <td>31000</td>\n",
       "      <td>1</td>\n",
       "    </tr>\n",
       "    <tr>\n",
       "      <th>4</th>\n",
       "      <td>11</td>\n",
       "      <td>False</td>\n",
       "      <td>NaN</td>\n",
       "      <td>False</td>\n",
       "      <td>08246b69-1f3f-11e7-bf6b-3863bb334450</td>\n",
       "      <td>True</td>\n",
       "      <td>38.857250</td>\n",
       "      <td>-77.053320</td>\n",
       "      <td>18th St &amp; S Eads St</td>\n",
       "      <td>41</td>\n",
       "      <td>[KEY, CREDITCARD]</td>\n",
       "      <td>http://app.capitalbikeshare.com/vIiR/zVsfTIsOT...</td>\n",
       "      <td>31001</td>\n",
       "      <td>2</td>\n",
       "    </tr>\n",
       "  </tbody>\n",
       "</table>\n",
       "</div>"
      ],
      "text/plain": [
       "   capacity  eightd_has_key_dispenser  \\\n",
       "0        19                     False   \n",
       "1        23                     False   \n",
       "2        35                     False   \n",
       "3        15                     False   \n",
       "4        11                     False   \n",
       "\n",
       "                             eightd_station_services  \\\n",
       "0  [{'id': '5029b3a1-a049-46f9-a13c-c7ffef2bb88c'...   \n",
       "1  [{'id': '6944e559-dc16-4a55-9125-e2c3256e294e'...   \n",
       "2  [{'id': '2a0089f1-ce95-4633-9471-61b0f70b7c08'...   \n",
       "3                                                NaN   \n",
       "4                                                NaN   \n",
       "\n",
       "   electric_bike_surcharge_waiver                           external_id  \\\n",
       "0                           False  08249be7-1f3f-11e7-bf6b-3863bb334450   \n",
       "1                           False  0824aa39-1f3f-11e7-bf6b-3863bb334450   \n",
       "2                           False  0824c80d-1f3f-11e7-bf6b-3863bb334450   \n",
       "3                           False  082469cc-1f3f-11e7-bf6b-3863bb334450   \n",
       "4                           False  08246b69-1f3f-11e7-bf6b-3863bb334450   \n",
       "\n",
       "   has_kiosk        lat        lon                              name  \\\n",
       "0       True  38.902221 -77.059219    Georgetown Harbor / 30th St NW   \n",
       "1       True  38.900283 -77.029822         13th St & New York Ave NW   \n",
       "2       True  38.902061 -77.038322  17th & K St NW / Farragut Square   \n",
       "3       True  38.858971 -77.053230               Eads St & 15th St S   \n",
       "4       True  38.857250 -77.053320               18th St & S Eads St   \n",
       "\n",
       "   region_id     rental_methods  \\\n",
       "0         42  [KEY, CREDITCARD]   \n",
       "1         42  [KEY, CREDITCARD]   \n",
       "2         42  [KEY, CREDITCARD]   \n",
       "3         41  [KEY, CREDITCARD]   \n",
       "4         41  [KEY, CREDITCARD]   \n",
       "\n",
       "                                          rental_url short_name station_id  \n",
       "0  http://app.capitalbikeshare.com/vIiR/zVsfTIsOT...      31215         72  \n",
       "1  http://app.capitalbikeshare.com/vIiR/zVsfTIsOT...      31227         91  \n",
       "2  http://app.capitalbikeshare.com/vIiR/zVsfTIsOT...      31233        106  \n",
       "3  http://app.capitalbikeshare.com/vIiR/zVsfTIsOT...      31000          1  \n",
       "4  http://app.capitalbikeshare.com/vIiR/zVsfTIsOT...      31001          2  "
      ]
     },
     "execution_count": 4,
     "metadata": {},
     "output_type": "execute_result"
    }
   ],
   "source": [
    "station_df.head()"
   ]
  },
  {
   "cell_type": "code",
   "execution_count": 5,
   "metadata": {},
   "outputs": [],
   "source": [
    "# Remove excess columns and rearrange columns\n",
    "station_df = station_df[['station_id', 'name', 'lat', 'lon', 'capacity', 'region_id']]"
   ]
  },
  {
   "cell_type": "code",
   "execution_count": 6,
   "metadata": {},
   "outputs": [],
   "source": [
    "# Include only stations in Washington, DC and reset the index\n",
    "station_df = station_df.loc[station_df['region_id']==42]\n",
    "station_df.reset_index(inplace=True, drop=True)"
   ]
  },
  {
   "cell_type": "code",
   "execution_count": 7,
   "metadata": {},
   "outputs": [
    {
     "data": {
      "text/html": [
       "<div>\n",
       "<style scoped>\n",
       "    .dataframe tbody tr th:only-of-type {\n",
       "        vertical-align: middle;\n",
       "    }\n",
       "\n",
       "    .dataframe tbody tr th {\n",
       "        vertical-align: top;\n",
       "    }\n",
       "\n",
       "    .dataframe thead th {\n",
       "        text-align: right;\n",
       "    }\n",
       "</style>\n",
       "<table border=\"1\" class=\"dataframe\">\n",
       "  <thead>\n",
       "    <tr style=\"text-align: right;\">\n",
       "      <th></th>\n",
       "      <th>station_id</th>\n",
       "      <th>name</th>\n",
       "      <th>lat</th>\n",
       "      <th>lon</th>\n",
       "      <th>capacity</th>\n",
       "      <th>region_id</th>\n",
       "    </tr>\n",
       "  </thead>\n",
       "  <tbody>\n",
       "    <tr>\n",
       "      <th>0</th>\n",
       "      <td>72</td>\n",
       "      <td>Georgetown Harbor / 30th St NW</td>\n",
       "      <td>38.902221</td>\n",
       "      <td>-77.059219</td>\n",
       "      <td>19</td>\n",
       "      <td>42</td>\n",
       "    </tr>\n",
       "    <tr>\n",
       "      <th>1</th>\n",
       "      <td>91</td>\n",
       "      <td>13th St &amp; New York Ave NW</td>\n",
       "      <td>38.900283</td>\n",
       "      <td>-77.029822</td>\n",
       "      <td>23</td>\n",
       "      <td>42</td>\n",
       "    </tr>\n",
       "    <tr>\n",
       "      <th>2</th>\n",
       "      <td>106</td>\n",
       "      <td>17th &amp; K St NW / Farragut Square</td>\n",
       "      <td>38.902061</td>\n",
       "      <td>-77.038322</td>\n",
       "      <td>35</td>\n",
       "      <td>42</td>\n",
       "    </tr>\n",
       "    <tr>\n",
       "      <th>3</th>\n",
       "      <td>14</td>\n",
       "      <td>19th St &amp; Pennsylvania Ave NW</td>\n",
       "      <td>38.900300</td>\n",
       "      <td>-77.042900</td>\n",
       "      <td>15</td>\n",
       "      <td>42</td>\n",
       "    </tr>\n",
       "    <tr>\n",
       "      <th>4</th>\n",
       "      <td>15</td>\n",
       "      <td>14th &amp; V St NW</td>\n",
       "      <td>38.917931</td>\n",
       "      <td>-77.032112</td>\n",
       "      <td>31</td>\n",
       "      <td>42</td>\n",
       "    </tr>\n",
       "  </tbody>\n",
       "</table>\n",
       "</div>"
      ],
      "text/plain": [
       "  station_id                              name        lat        lon  \\\n",
       "0         72    Georgetown Harbor / 30th St NW  38.902221 -77.059219   \n",
       "1         91         13th St & New York Ave NW  38.900283 -77.029822   \n",
       "2        106  17th & K St NW / Farragut Square  38.902061 -77.038322   \n",
       "3         14     19th St & Pennsylvania Ave NW  38.900300 -77.042900   \n",
       "4         15                    14th & V St NW  38.917931 -77.032112   \n",
       "\n",
       "   capacity  region_id  \n",
       "0        19         42  \n",
       "1        23         42  \n",
       "2        35         42  \n",
       "3        15         42  \n",
       "4        31         42  "
      ]
     },
     "execution_count": 7,
     "metadata": {},
     "output_type": "execute_result"
    }
   ],
   "source": [
    "station_df.head()"
   ]
  },
  {
   "cell_type": "markdown",
   "metadata": {},
   "source": [
    "## Bring in Neighborhood JSON"
   ]
  },
  {
   "cell_type": "code",
   "execution_count": 8,
   "metadata": {},
   "outputs": [],
   "source": [
    "# Neighborhood GeoJSON comes from OpenData.DC.gov\n",
    "neighborhood_path = os.path.join(os.getcwd(),'data', 'geography', 'neighborhood_clusters.geojson') \n",
    "neighborhood_geojson = json.load(open(neighborhood_path))"
   ]
  },
  {
   "cell_type": "markdown",
   "metadata": {},
   "source": [
    "## Get Clean Lists of Neighborhoods and Coordinates"
   ]
  },
  {
   "cell_type": "code",
   "execution_count": 9,
   "metadata": {},
   "outputs": [],
   "source": [
    "# Get list of neighborhoods\n",
    "neighborhood_names = []\n",
    "for i in pd.DataFrame.from_records(neighborhood_geojson['features'])['properties']:\n",
    "    name = i['NBH_NAMES']\n",
    "    neighborhood_names.append(name)"
   ]
  },
  {
   "cell_type": "code",
   "execution_count": 10,
   "metadata": {},
   "outputs": [],
   "source": [
    "# Get clean list of lattitude and longitude coordinates that make up each neighborhood\n",
    "neighborhood_coordinates = []\n",
    "for i in pd.DataFrame.from_records(neighborhood_geojson['features'])['geometry']:\n",
    "    coords = i['coordinates'][0]\n",
    "    neighborhood_coordinates.append(coords)"
   ]
  },
  {
   "cell_type": "markdown",
   "metadata": {},
   "source": [
    "## Create Polygons for Each Neighborhood"
   ]
  },
  {
   "cell_type": "code",
   "execution_count": 11,
   "metadata": {},
   "outputs": [],
   "source": [
    "from shapely.geometry import Point\n",
    "from shapely.geometry.polygon import Polygon"
   ]
  },
  {
   "cell_type": "code",
   "execution_count": 12,
   "metadata": {},
   "outputs": [],
   "source": [
    "# Use package to create polygons using coordinates\n",
    "neighborhood_polygons = []\n",
    "for coords in neighborhood_coordinates:\n",
    "    polygon = Polygon(coords)\n",
    "    neighborhood_polygons.append(polygon)"
   ]
  },
  {
   "cell_type": "code",
   "execution_count": 13,
   "metadata": {},
   "outputs": [
    {
     "data": {
      "image/svg+xml": [
       "<svg xmlns=\"http://www.w3.org/2000/svg\" xmlns:xlink=\"http://www.w3.org/1999/xlink\" width=\"100.0\" height=\"100.0\" viewBox=\"-77.059255640018 38.89464131144931 0.02055740780245685 0.015504685655429284\" preserveAspectRatio=\"xMinYMin meet\"><g transform=\"matrix(1,0,0,-1,0,77.80478730855405)\"><path fill-rule=\"evenodd\" fill=\"#66cc99\" stroke=\"#555555\" stroke-width=\"0.000411148156049137\" opacity=\"0.6\" d=\"M -77.05011148488849,38.90898542939842 L -77.05009866327838,38.90938461163058 L -77.0502641547899,38.909187958160025 L -77.0505385800312,38.90900908039185 L -77.05088928213573,38.90885400260859 L -77.05124004408937,38.90878234666953 L -77.05148407275645,38.90875840330305 L -77.05183492025176,38.90880591696817 L -77.05218576677417,38.90885343070596 L -77.05259759932801,38.90886516407211 L -77.05293312651035,38.908817342616516 L -77.05323806583452,38.90866227962561 L -77.053512472653,38.90847147681506 L -77.0536648193387,38.90823305955446 L -77.05390859922944,38.907887345402536 L -77.05418299221907,38.907684622948295 L -77.05436584176809,38.90744619283956 L -77.05450285721741,38.907112442823596 L -77.05462464984251,38.90681445501525 L -77.0547768977477,38.90645686254377 L -77.05497486381464,38.906051580650995 L -77.05520335353468,38.90567012007452 L -77.05543181527219,38.905261360348064 L -77.0555689570995,38.90509791406697 L -77.05579747355341,38.90476411995394 L -77.05595972680302,38.90455880838722 L -77.05623932034854,38.90417995725719 L -77.056498543926,38.9039685986334 L -77.05662629221325,38.90383440461852 L -77.05690997867944,38.90365527186213 L -77.05695561790715,38.903512241965316 L -77.05709273912798,38.90333341320779 L -77.05726034547837,38.90313073886297 L -77.05747419598671,38.90292360491221 L -77.0576164725188,38.90265571748508 L -77.05780842287807,38.90241587421962 L -77.05797642240988,38.902212750451575 L -77.05818974681316,38.901974298981784 L -77.05826583666622,38.901771666438506 L -77.05843339696133,38.90152131813412 L -77.05849425454383,38.901342526911456 L -77.05847886567751,38.90117569415646 L -77.05846926840869,38.90115473650596 L -77.05840247314437,38.901008888529795 L -77.05825408908528,38.9009281508666 L -77.05795996113348,38.900723093463974 L -77.05763949624026,38.900484904298544 L -77.05734954533199,38.90025861733145 L -77.05734937286894,38.90004410580013 L -77.05733397882025,38.899865352544076 L -77.05744058046481,38.89967462354648 L -77.05747359336951,38.89964141261896 L -77.05747264735322,38.89963874435698 L -77.05748010631174,38.89963011630587 L -77.05739628275622,38.89940139690222 L -77.05739708105632,38.89939599824845 L -77.05739635496859,38.89938727062745 L -77.0573963471539,38.89937755848986 L -77.05739490251828,38.89937305501808 L -77.05739345856142,38.89936939495399 L -77.05739057480791,38.89936545408584 L -77.05738768919551,38.89936278452378 L -77.05738480468098,38.89935968818992 L -77.05738083963575,38.89935687502413 L -77.05737615453815,38.899354625234544 L -77.05736209992625,38.899348720398415 L -77.05735633494581,38.899345766233935 L -77.05735308786721,38.89934337723376 L -77.05734948239694,38.89933971823027 L -77.05734731824896,38.899334653214474 L -77.05734659290698,38.899330429774295 L -77.0573465907579,38.89932775654356 L -77.0573483880303,38.8993209993889 L -77.05734982666243,38.89931804056142 L -77.05735234413191,38.89931269286191 L -77.05735299876214,38.89931141222691 L -77.05732865608391,38.89928132498206 L -77.05715283960471,38.89903638702493 L -77.05712805694247,38.89905226287544 L -77.05702277264395,38.898936755026455 L -77.05689509215722,38.898822434707945 L -77.05689290327008,38.89882061946263 L -77.05679705177316,38.898735002193725 L -77.05665835908776,38.898630529730355 L -77.05663487100264,38.898447425845234 L -77.05663475502861,38.89844655096406 L -77.05662646810197,38.89844683536673 L -77.05662857960144,38.898398385106475 L -77.05662854769668,38.898398129509594 L -77.05664894604391,38.8978751164668 L -77.05664941856851,38.89786226693034 L -77.05665056005945,38.89782990044559 L -77.05665632193515,38.89766222156313 L -77.05666619401795,38.89738824308703 L -77.05266031237107,38.8973629382596 L -77.05276841850922,38.89702418616225 L -77.05289450086246,38.896572523939014 L -77.05267754875331,38.896248031349685 L -77.05235241874549,38.89616350223662 L -77.05135907706911,38.89605104132648 L -77.05016716819924,38.89605155929306 L -77.04800004887257,38.89603835716424 L -77.04749419398546,38.89574219875621 L -77.0466809206865,38.8956623791385 L -77.04652155053897,38.895647468557776 L -77.04603834689688,38.895625231414584 L -77.0455625589595,38.89554713636952 L -77.04508342741292,38.895470931307784 L -77.04492004191863,38.895437349121494 L -77.04479752964403,38.89541230223257 L -77.04406873948261,38.895407719438765 L -77.04347429082962,38.895406267760976 L -77.0430429111684,38.895402696923476 L -77.0423659068578,38.895407806694244 L -77.04172951788944,38.895412728006036 L -77.04147068366036,38.89540839932862 L -77.03947112927564,38.89540449671404 L -77.03946328362386,38.89550647972584 L -77.0394596176897,38.89585257683566 L -77.03946371688231,38.89640946146034 L -77.03946263916994,38.89693583419085 L -77.03947470645893,38.89736408669394 L -77.03947414983583,38.898329423232816 L -77.0394614902355,38.89882083486121 L -77.03946178298473,38.89882124351682 L -77.03946266776269,38.89882124997421 L -77.04170720174233,38.899601737293175 L -77.04346395649227,38.90020952498375 L -77.04488672527371,38.900707567066014 L -77.04665499188717,38.901325929859446 L -77.04830127146357,38.90189754606165 L -77.04873000156215,38.90205707719784 L -77.04883404652344,38.90210336261161 L -77.0495087026377,38.90234682454345 L -77.04945239229225,38.90253739542726 L -77.04946253431034,38.902697018100355 L -77.04951228491787,38.90278870210173 L -77.04959710682921,38.90291289023875 L -77.0497221227567,38.902973554548176 L -77.0495534705118,38.90315928956433 L -77.04930889074022,38.90341198623631 L -77.04907405975435,38.9036521803219 L -77.04869267571381,38.90405925970217 L -77.0486117903329,38.90414961115349 L -77.04842365436043,38.904345982460875 L -77.04818931631758,38.90458245970075 L -77.04793068164143,38.90486515590692 L -77.04743147120355,38.905374872109554 L -77.04731385293734,38.90551581156467 L -77.04700060290537,38.90586077660572 L -77.0466455239537,38.90623972122911 L -77.046641114727,38.90725235279769 L -77.0466373928285,38.90791014281288 L -77.0488003278724,38.90790763788054 L -77.04921082861193,38.90791325243278 L -77.04945486036887,38.907901232469975 L -77.04962266497998,38.90793691320217 L -77.04973403377834,38.90800068211506 L -77.0498668315041,38.908115569784634 L -77.05003475098634,38.908318092367075 L -77.05011120020335,38.90858024081192 L -77.05011148488849,38.90898542939842 z\" /></g></svg>"
      ],
      "text/plain": [
       "<shapely.geometry.polygon.Polygon at 0x121bc94e0>"
      ]
     },
     "execution_count": 13,
     "metadata": {},
     "output_type": "execute_result"
    }
   ],
   "source": [
    "neighborhood_polygons[6]"
   ]
  },
  {
   "cell_type": "markdown",
   "metadata": {},
   "source": [
    "## Create Dictionary Containing Names, Coordinates, and Polygons"
   ]
  },
  {
   "cell_type": "code",
   "execution_count": 14,
   "metadata": {},
   "outputs": [],
   "source": [
    "neighborhood_dict = list(zip(neighborhood_names, neighborhood_coordinates, neighborhood_polygons))"
   ]
  },
  {
   "cell_type": "markdown",
   "metadata": {},
   "source": [
    "## Create Points for Each Station Using Coordinates"
   ]
  },
  {
   "cell_type": "code",
   "execution_count": 15,
   "metadata": {},
   "outputs": [],
   "source": [
    "# Iterate through dataframe to generate points that correspond to stations\n",
    "points = []\n",
    "for x in range(len(station_df)):\n",
    "    point = Point(station_df['lon'][x], station_df['lat'][x])\n",
    "    points.append(point)"
   ]
  },
  {
   "cell_type": "markdown",
   "metadata": {},
   "source": [
    "## Iterate Through Points and Polygons to Find Matches"
   ]
  },
  {
   "cell_type": "code",
   "execution_count": 16,
   "metadata": {
    "scrolled": true
   },
   "outputs": [],
   "source": [
    "neighborhood_list = []\n",
    "for point in points:\n",
    "    for x in neighborhood_dict:\n",
    "        if x[2].contains(point):\n",
    "            n = x[0]\n",
    "            neighborhood_list.append(n)\n",
    "            break"
   ]
  },
  {
   "cell_type": "markdown",
   "metadata": {},
   "source": [
    "## Add Neighborhood Labels to Station DataFrame"
   ]
  },
  {
   "cell_type": "code",
   "execution_count": 18,
   "metadata": {},
   "outputs": [],
   "source": [
    "station_df['neighborhood'] = neighborhood_list"
   ]
  },
  {
   "cell_type": "code",
   "execution_count": 19,
   "metadata": {
    "scrolled": true
   },
   "outputs": [
    {
     "data": {
      "text/html": [
       "<div>\n",
       "<style scoped>\n",
       "    .dataframe tbody tr th:only-of-type {\n",
       "        vertical-align: middle;\n",
       "    }\n",
       "\n",
       "    .dataframe tbody tr th {\n",
       "        vertical-align: top;\n",
       "    }\n",
       "\n",
       "    .dataframe thead th {\n",
       "        text-align: right;\n",
       "    }\n",
       "</style>\n",
       "<table border=\"1\" class=\"dataframe\">\n",
       "  <thead>\n",
       "    <tr style=\"text-align: right;\">\n",
       "      <th></th>\n",
       "      <th>station_id</th>\n",
       "      <th>name</th>\n",
       "      <th>lat</th>\n",
       "      <th>lon</th>\n",
       "      <th>capacity</th>\n",
       "      <th>region_id</th>\n",
       "      <th>neighborhood</th>\n",
       "    </tr>\n",
       "  </thead>\n",
       "  <tbody>\n",
       "    <tr>\n",
       "      <th>0</th>\n",
       "      <td>72</td>\n",
       "      <td>Georgetown Harbor / 30th St NW</td>\n",
       "      <td>38.902221</td>\n",
       "      <td>-77.059219</td>\n",
       "      <td>19</td>\n",
       "      <td>42</td>\n",
       "      <td>Georgetown, Burleith/Hillandale</td>\n",
       "    </tr>\n",
       "    <tr>\n",
       "      <th>1</th>\n",
       "      <td>91</td>\n",
       "      <td>13th St &amp; New York Ave NW</td>\n",
       "      <td>38.900283</td>\n",
       "      <td>-77.029822</td>\n",
       "      <td>23</td>\n",
       "      <td>42</td>\n",
       "      <td>Downtown, Chinatown, Penn Quarters, Mount Vern...</td>\n",
       "    </tr>\n",
       "    <tr>\n",
       "      <th>2</th>\n",
       "      <td>106</td>\n",
       "      <td>17th &amp; K St NW / Farragut Square</td>\n",
       "      <td>38.902061</td>\n",
       "      <td>-77.038322</td>\n",
       "      <td>35</td>\n",
       "      <td>42</td>\n",
       "      <td>Dupont Circle, Connecticut Avenue/K Street</td>\n",
       "    </tr>\n",
       "    <tr>\n",
       "      <th>3</th>\n",
       "      <td>14</td>\n",
       "      <td>19th St &amp; Pennsylvania Ave NW</td>\n",
       "      <td>38.900300</td>\n",
       "      <td>-77.042900</td>\n",
       "      <td>15</td>\n",
       "      <td>42</td>\n",
       "      <td>Dupont Circle, Connecticut Avenue/K Street</td>\n",
       "    </tr>\n",
       "    <tr>\n",
       "      <th>4</th>\n",
       "      <td>15</td>\n",
       "      <td>14th &amp; V St NW</td>\n",
       "      <td>38.917931</td>\n",
       "      <td>-77.032112</td>\n",
       "      <td>31</td>\n",
       "      <td>42</td>\n",
       "      <td>Howard University, Le Droit Park, Cardozo/Shaw</td>\n",
       "    </tr>\n",
       "  </tbody>\n",
       "</table>\n",
       "</div>"
      ],
      "text/plain": [
       "  station_id                              name        lat        lon  \\\n",
       "0         72    Georgetown Harbor / 30th St NW  38.902221 -77.059219   \n",
       "1         91         13th St & New York Ave NW  38.900283 -77.029822   \n",
       "2        106  17th & K St NW / Farragut Square  38.902061 -77.038322   \n",
       "3         14     19th St & Pennsylvania Ave NW  38.900300 -77.042900   \n",
       "4         15                    14th & V St NW  38.917931 -77.032112   \n",
       "\n",
       "   capacity  region_id                                       neighborhood  \n",
       "0        19         42                    Georgetown, Burleith/Hillandale  \n",
       "1        23         42  Downtown, Chinatown, Penn Quarters, Mount Vern...  \n",
       "2        35         42         Dupont Circle, Connecticut Avenue/K Street  \n",
       "3        15         42         Dupont Circle, Connecticut Avenue/K Street  \n",
       "4        31         42     Howard University, Le Droit Park, Cardozo/Shaw  "
      ]
     },
     "execution_count": 19,
     "metadata": {},
     "output_type": "execute_result"
    }
   ],
   "source": [
    "station_df.head()"
   ]
  },
  {
   "cell_type": "markdown",
   "metadata": {},
   "source": [
    "# Ride Data Investigation"
   ]
  },
  {
   "cell_type": "code",
   "execution_count": 20,
   "metadata": {},
   "outputs": [],
   "source": [
    "# Bring in CSV of all rides, January 2010 - October 2019\n",
    "trip_df = pd.read_csv('data/trips/all_trips.csv')"
   ]
  },
  {
   "cell_type": "code",
   "execution_count": 21,
   "metadata": {},
   "outputs": [],
   "source": [
    "# Convert times to datetime\n",
    "trip_df['Start date'] = pd.to_datetime(trip_df['Start date'])\n",
    "trip_df['End date'] = pd.to_datetime(trip_df['End date'])"
   ]
  },
  {
   "cell_type": "code",
   "execution_count": 22,
   "metadata": {},
   "outputs": [],
   "source": [
    "# Drop old index column and incorrect station numbers\n",
    "trip_df.drop('Unnamed: 0', axis=1, inplace=True)\n",
    "trip_df.drop(['Start station number', 'End station number'], axis=1, inplace=True)"
   ]
  },
  {
   "cell_type": "code",
   "execution_count": 23,
   "metadata": {
    "scrolled": false
   },
   "outputs": [
    {
     "data": {
      "text/html": [
       "<div>\n",
       "<style scoped>\n",
       "    .dataframe tbody tr th:only-of-type {\n",
       "        vertical-align: middle;\n",
       "    }\n",
       "\n",
       "    .dataframe tbody tr th {\n",
       "        vertical-align: top;\n",
       "    }\n",
       "\n",
       "    .dataframe thead th {\n",
       "        text-align: right;\n",
       "    }\n",
       "</style>\n",
       "<table border=\"1\" class=\"dataframe\">\n",
       "  <thead>\n",
       "    <tr style=\"text-align: right;\">\n",
       "      <th></th>\n",
       "      <th>Duration</th>\n",
       "      <th>Start date</th>\n",
       "      <th>End date</th>\n",
       "      <th>Start station</th>\n",
       "      <th>End station</th>\n",
       "      <th>Bike number</th>\n",
       "      <th>Member type</th>\n",
       "    </tr>\n",
       "  </thead>\n",
       "  <tbody>\n",
       "    <tr>\n",
       "      <th>0</th>\n",
       "      <td>679</td>\n",
       "      <td>2018-05-01 00:00:00</td>\n",
       "      <td>2018-05-01 00:11:19</td>\n",
       "      <td>Wisconsin Ave &amp; Newark St NW</td>\n",
       "      <td>3000 Connecticut Ave NW / National Zoo</td>\n",
       "      <td>W22771</td>\n",
       "      <td>Member</td>\n",
       "    </tr>\n",
       "    <tr>\n",
       "      <th>1</th>\n",
       "      <td>578</td>\n",
       "      <td>2018-05-01 00:00:20</td>\n",
       "      <td>2018-05-01 00:09:59</td>\n",
       "      <td>7th &amp; F St NW / National Portrait Gallery</td>\n",
       "      <td>Maine Ave &amp; 7th St SW</td>\n",
       "      <td>W21320</td>\n",
       "      <td>Casual</td>\n",
       "    </tr>\n",
       "    <tr>\n",
       "      <th>2</th>\n",
       "      <td>580</td>\n",
       "      <td>2018-05-01 00:00:28</td>\n",
       "      <td>2018-05-01 00:10:09</td>\n",
       "      <td>7th &amp; F St NW / National Portrait Gallery</td>\n",
       "      <td>Maine Ave &amp; 7th St SW</td>\n",
       "      <td>W20863</td>\n",
       "      <td>Casual</td>\n",
       "    </tr>\n",
       "    <tr>\n",
       "      <th>3</th>\n",
       "      <td>606</td>\n",
       "      <td>2018-05-01 00:01:22</td>\n",
       "      <td>2018-05-01 00:11:29</td>\n",
       "      <td>Adams Mill &amp; Columbia Rd NW</td>\n",
       "      <td>New Jersey Ave &amp; R St NW</td>\n",
       "      <td>W00822</td>\n",
       "      <td>Member</td>\n",
       "    </tr>\n",
       "    <tr>\n",
       "      <th>4</th>\n",
       "      <td>582</td>\n",
       "      <td>2018-05-01 00:04:52</td>\n",
       "      <td>2018-05-01 00:14:34</td>\n",
       "      <td>15th St &amp; Pennsylvania Ave NW/Pershing Park</td>\n",
       "      <td>3rd &amp; Elm St NW</td>\n",
       "      <td>W21846</td>\n",
       "      <td>Member</td>\n",
       "    </tr>\n",
       "  </tbody>\n",
       "</table>\n",
       "</div>"
      ],
      "text/plain": [
       "   Duration          Start date            End date  \\\n",
       "0       679 2018-05-01 00:00:00 2018-05-01 00:11:19   \n",
       "1       578 2018-05-01 00:00:20 2018-05-01 00:09:59   \n",
       "2       580 2018-05-01 00:00:28 2018-05-01 00:10:09   \n",
       "3       606 2018-05-01 00:01:22 2018-05-01 00:11:29   \n",
       "4       582 2018-05-01 00:04:52 2018-05-01 00:14:34   \n",
       "\n",
       "                                 Start station  \\\n",
       "0                 Wisconsin Ave & Newark St NW   \n",
       "1    7th & F St NW / National Portrait Gallery   \n",
       "2    7th & F St NW / National Portrait Gallery   \n",
       "3                  Adams Mill & Columbia Rd NW   \n",
       "4  15th St & Pennsylvania Ave NW/Pershing Park   \n",
       "\n",
       "                              End station Bike number Member type  \n",
       "0  3000 Connecticut Ave NW / National Zoo      W22771      Member  \n",
       "1                   Maine Ave & 7th St SW      W21320      Casual  \n",
       "2                   Maine Ave & 7th St SW      W20863      Casual  \n",
       "3                New Jersey Ave & R St NW      W00822      Member  \n",
       "4                         3rd & Elm St NW      W21846      Member  "
      ]
     },
     "execution_count": 23,
     "metadata": {},
     "output_type": "execute_result"
    }
   ],
   "source": [
    "trip_df.head()"
   ]
  },
  {
   "cell_type": "code",
   "execution_count": 24,
   "metadata": {
    "scrolled": true
   },
   "outputs": [
    {
     "data": {
      "text/plain": [
       "(25636472, 7)"
      ]
     },
     "execution_count": 24,
     "metadata": {},
     "output_type": "execute_result"
    }
   ],
   "source": [
    "trip_df.shape"
   ]
  },
  {
   "cell_type": "markdown",
   "metadata": {},
   "source": [
    "## Add Start/End Neighborhoods, Latitudes, Longitudes"
   ]
  },
  {
   "cell_type": "code",
   "execution_count": 25,
   "metadata": {},
   "outputs": [],
   "source": [
    "# Merge trip dataframe and station dataframe on 'Start station' to obtain start latitude, start longitude, and start neighborhood\n",
    "dc_ride_df = pd.merge(trip_df, station_df, left_on='Start station', right_on='name', copy=False)"
   ]
  },
  {
   "cell_type": "code",
   "execution_count": 26,
   "metadata": {},
   "outputs": [],
   "source": [
    "# Drop unnecessary columns\n",
    "dc_ride_df.drop(['station_id', 'capacity', 'Bike number', 'name'], axis=1, inplace=True)"
   ]
  },
  {
   "cell_type": "code",
   "execution_count": 27,
   "metadata": {},
   "outputs": [],
   "source": [
    "# Rename columns\n",
    "dc_ride_df.columns = ['duration', 'start_date', 'end_date', 'start_station', 'end_station', 'member_type', 'start_lat', 'start_lon', 'region_id', 'start_neighborhood']"
   ]
  },
  {
   "cell_type": "code",
   "execution_count": 28,
   "metadata": {},
   "outputs": [],
   "source": [
    "# Merge trip dataframe and station dataframe on 'End station' to obtain end latitude, end longitude, and end neighborhood\n",
    "dc_ride_df = pd.merge(dc_ride_df, station_df, left_on='end_station', right_on='name', copy=False)"
   ]
  },
  {
   "cell_type": "code",
   "execution_count": 29,
   "metadata": {},
   "outputs": [],
   "source": [
    "# Drop columns not relevant to this particular exploration\n",
    "dc_ride_df.drop(['station_id', 'capacity', 'name', 'region_id_y'], axis=1, inplace=True)"
   ]
  },
  {
   "cell_type": "code",
   "execution_count": 30,
   "metadata": {},
   "outputs": [],
   "source": [
    "# Set column order\n",
    "dc_ride_df.columns = ['duration', 'start_date', 'end_date', 'start_station', 'end_station', 'member_type', 'start_lat', 'start_lon', 'region_id', 'start_neighborhood', 'end_lat', 'end_lon', 'end_neighborhood']"
   ]
  },
  {
   "cell_type": "markdown",
   "metadata": {},
   "source": [
    "## Add Distances to Trip DataFrame"
   ]
  },
  {
   "cell_type": "code",
   "execution_count": 31,
   "metadata": {},
   "outputs": [],
   "source": [
    "import geopy.distance\n",
    "from timeit import default_timer as timer"
   ]
  },
  {
   "cell_type": "code",
   "execution_count": 1,
   "metadata": {},
   "outputs": [],
   "source": [
    "# Define function to calculate distance between starting point and ending point\n",
    "def get_distance(row):\n",
    "    return geopy.distance.geodesic((row['start_lat'], row['start_lon']), (row['end_lat'], row['end_lon'])).miles"
   ]
  },
  {
   "cell_type": "code",
   "execution_count": null,
   "metadata": {},
   "outputs": [],
   "source": [
    "# Run function to calculate distances and add result as column in dataframe\n",
    "start = timer()\n",
    "merged_df['distance'] = merged_df.apply(get_distance, axis=1)\n",
    "end = timer()\n",
    "print(end - start)"
   ]
  },
  {
   "cell_type": "markdown",
   "metadata": {},
   "source": [
    "## Add Day of Week and Time of Day Information"
   ]
  },
  {
   "cell_type": "code",
   "execution_count": 34,
   "metadata": {},
   "outputs": [],
   "source": [
    "# Add a new column, \"Day of Week\", to make categorical comparisons\n",
    "dc_ride_df['day_of_week'] = dc_ride_df['start_date'].dt.weekday_name"
   ]
  },
  {
   "cell_type": "code",
   "execution_count": 35,
   "metadata": {
    "scrolled": true
   },
   "outputs": [
    {
     "data": {
      "text/plain": [
       "Friday       3238900\n",
       "Wednesday    3221453\n",
       "Thursday     3201172\n",
       "Saturday     3159470\n",
       "Tuesday      3128318\n",
       "Monday       2987128\n",
       "Sunday       2889453\n",
       "Name: day_of_week, dtype: int64"
      ]
     },
     "execution_count": 35,
     "metadata": {},
     "output_type": "execute_result"
    }
   ],
   "source": [
    "# Look at value counts of new column\n",
    "dc_ride_df.day_of_week.value_counts()"
   ]
  },
  {
   "cell_type": "code",
   "execution_count": 36,
   "metadata": {},
   "outputs": [],
   "source": [
    "# Add a similar categorical column, \"Start Hour\"\n",
    "dc_ride_df['start_hour'] = dc_ride_df['start_date'].dt.hour"
   ]
  },
  {
   "cell_type": "markdown",
   "metadata": {},
   "source": [
    "## Day of Week and Time of Day Aggregation"
   ]
  },
  {
   "cell_type": "code",
   "execution_count": 38,
   "metadata": {
    "scrolled": true
   },
   "outputs": [],
   "source": [
    "weekday_agg_rides_by_hour = dc_ride_df[['day_of_week', 'start_hour', 'duration']].loc[dc_ride_df['day_of_week'].isin(['Monday', \"Tuesday\", \"Wednesday\", \"Thursday\", \"Friday\"])].groupby(['start_hour']).count()"
   ]
  },
  {
   "cell_type": "code",
   "execution_count": 39,
   "metadata": {},
   "outputs": [],
   "source": [
    "weekend_agg_rides_by_hour = dc_ride_df[['day_of_week', 'start_hour', 'duration']].loc[dc_ride_df['day_of_week'].isin(['Saturday', 'Sunday'])].groupby(['start_hour']).count()"
   ]
  },
  {
   "cell_type": "code",
   "execution_count": 44,
   "metadata": {},
   "outputs": [],
   "source": [
    "df1 = dc_ride_df[[\"start_date\", 'day_of_week', 'start_hour', 'duration']].loc[dc_ride_df['day_of_week'].isin(['Monday', \"Tuesday\", \"Wednesday\", \"Thursday\", \"Friday\"])]\n",
    "df1[\"start_date\"] = pd.to_datetime(df1[\"start_date\"])"
   ]
  },
  {
   "cell_type": "code",
   "execution_count": 45,
   "metadata": {},
   "outputs": [],
   "source": [
    "df2 = df1.groupby([\"start_hour\", pd.Grouper(key='start_date', freq='H')])[\"day_of_week\"].count()\n",
    "df3 = df2.groupby(\"start_hour\").mean()"
   ]
  },
  {
   "cell_type": "markdown",
   "metadata": {},
   "source": [
    "## Import and Clean Weather Data"
   ]
  },
  {
   "cell_type": "code",
   "execution_count": 49,
   "metadata": {
    "scrolled": false
   },
   "outputs": [
    {
     "name": "stderr",
     "output_type": "stream",
     "text": [
      "/Users/flatironschool/anaconda3/lib/python3.7/site-packages/IPython/core/interactiveshell.py:3057: DtypeWarning: Columns (33,34,41,42,43,46,49,51,52,58,59,69,73,75,76,88,89) have mixed types. Specify dtype option on import or set low_memory=False.\n",
      "  interactivity=interactivity, compiler=compiler, result=result)\n"
     ]
    }
   ],
   "source": [
    "# Bring in historical weather data from NOAA (National Oceanic and Atmospheric Administration)\n",
    "weather_df = pd.read_csv('data/weather/dc_weather.csv')"
   ]
  },
  {
   "cell_type": "code",
   "execution_count": 50,
   "metadata": {},
   "outputs": [],
   "source": [
    "# Choose three columns; date, precipitation, and temperature\n",
    "select_weather_df = weather_df[['DATE', 'HourlyPrecipitation', 'HourlyDryBulbTemperature']]"
   ]
  },
  {
   "cell_type": "code",
   "execution_count": 51,
   "metadata": {
    "scrolled": false
   },
   "outputs": [
    {
     "data": {
      "text/plain": [
       "DATE                        object\n",
       "HourlyPrecipitation         object\n",
       "HourlyDryBulbTemperature    object\n",
       "dtype: object"
      ]
     },
     "execution_count": 51,
     "metadata": {},
     "output_type": "execute_result"
    }
   ],
   "source": [
    "# View object types\n",
    "select_weather_df.dtypes"
   ]
  },
  {
   "cell_type": "code",
   "execution_count": 52,
   "metadata": {},
   "outputs": [
    {
     "data": {
      "text/plain": [
       "143775"
      ]
     },
     "execution_count": 52,
     "metadata": {},
     "output_type": "execute_result"
    }
   ],
   "source": [
    "# Inspect length\n",
    "len(select_weather_df)"
   ]
  },
  {
   "cell_type": "code",
   "execution_count": 53,
   "metadata": {},
   "outputs": [],
   "source": [
    "# Drop all rows with empty values\n",
    "select_weather_df = select_weather_df.dropna()"
   ]
  },
  {
   "cell_type": "code",
   "execution_count": 54,
   "metadata": {},
   "outputs": [
    {
     "data": {
      "text/plain": [
       "100145"
      ]
     },
     "execution_count": 54,
     "metadata": {},
     "output_type": "execute_result"
    }
   ],
   "source": [
    "# Inspect length\n",
    "len(select_weather_df)"
   ]
  },
  {
   "cell_type": "code",
   "execution_count": 55,
   "metadata": {},
   "outputs": [],
   "source": [
    "# Convert HourlyPrecipitation into a categorical variable-- N: no rain; T: trace amounts of rain; Y: rain\n",
    "rain_cat = []\n",
    "for x in select_weather_df.HourlyPrecipitation:\n",
    "    if x == '0.00':\n",
    "        rain_cat.append('N')\n",
    "        continue\n",
    "    if x == 0:\n",
    "        rain_cat.append('N')\n",
    "        continue\n",
    "    if x == 'T':\n",
    "        rain_cat.append('T')\n",
    "        continue\n",
    "    else:\n",
    "        rain_cat.append('Y')"
   ]
  },
  {
   "cell_type": "code",
   "execution_count": 56,
   "metadata": {},
   "outputs": [],
   "source": [
    "# Add new categorical variable to dataframe\n",
    "select_weather_df['precip_cat'] = rain_cat"
   ]
  },
  {
   "cell_type": "code",
   "execution_count": 57,
   "metadata": {
    "scrolled": true
   },
   "outputs": [],
   "source": [
    "# Add column to dataframe, datetimes from DATE column\n",
    "select_weather_df['start_date'] = pd.to_datetime(select_weather_df['DATE'])"
   ]
  },
  {
   "cell_type": "code",
   "execution_count": 58,
   "metadata": {},
   "outputs": [],
   "source": [
    "# Drop original precipitation and date columns\n",
    "select_weather_df.drop('HourlyPrecipitation', axis=1, inplace=True)\n",
    "select_weather_df.drop('DATE', axis=1, inplace=True)"
   ]
  },
  {
   "cell_type": "code",
   "execution_count": 59,
   "metadata": {},
   "outputs": [],
   "source": [
    "# Import regex to clean up temperature data, which includes non-numeric characters\n",
    "import re"
   ]
  },
  {
   "cell_type": "code",
   "execution_count": 60,
   "metadata": {},
   "outputs": [],
   "source": [
    "# Select only integers and floats\n",
    "select_weather_df['HourlyDryBulbTemperature']= [re.sub(r'[^0-9.,]+','', str(x)) for x in select_weather_df['HourlyDryBulbTemperature']]"
   ]
  },
  {
   "cell_type": "code",
   "execution_count": 61,
   "metadata": {
    "scrolled": false
   },
   "outputs": [],
   "source": [
    "# Convert temperature values to numbers and round to the nearest whole number\n",
    "select_weather_df['HourlyDryBulbTemperature'] = pd.to_numeric(select_weather_df.HourlyDryBulbTemperature)\n",
    "select_weather_df['HourlyDryBulbTemperature'] = select_weather_df.HourlyDryBulbTemperature.round()"
   ]
  },
  {
   "cell_type": "markdown",
   "metadata": {},
   "source": [
    "## Add Weather Data to Ride DataFrame"
   ]
  },
  {
   "cell_type": "code",
   "execution_count": 62,
   "metadata": {},
   "outputs": [],
   "source": [
    "# Sort ride dataframe and weather dataframe by time\n",
    "dc_ride_df.sort_values('start_date', inplace=True)\n",
    "select_weather_df.sort_values('start_date', inplace=True)"
   ]
  },
  {
   "cell_type": "code",
   "execution_count": 63,
   "metadata": {},
   "outputs": [],
   "source": [
    "# Use 'merge_asof' to merge dataframes\n",
    "merged_df = pd.merge_asof(dc_ride_df, select_weather_df, on='start_date')"
   ]
  }
 ],
 "metadata": {
  "kernelspec": {
   "display_name": "Python 3",
   "language": "python",
   "name": "python3"
  },
  "language_info": {
   "codemirror_mode": {
    "name": "ipython",
    "version": 3
   },
   "file_extension": ".py",
   "mimetype": "text/x-python",
   "name": "python",
   "nbconvert_exporter": "python",
   "pygments_lexer": "ipython3",
   "version": "3.7.3"
  }
 },
 "nbformat": 4,
 "nbformat_minor": 2
}
