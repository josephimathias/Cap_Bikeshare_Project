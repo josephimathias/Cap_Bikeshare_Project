{
 "cells": [
  {
   "cell_type": "code",
   "execution_count": 1,
   "metadata": {
    "scrolled": true
   },
   "outputs": [
    {
     "name": "stderr",
     "output_type": "stream",
     "text": [
      "/Users/flatironschool/anaconda3/lib/python3.7/site-packages/sklearn/externals/joblib/__init__.py:15: DeprecationWarning:\n",
      "\n",
      "sklearn.externals.joblib is deprecated in 0.21 and will be removed in 0.23. Please import this functionality directly from joblib, which can be installed with: pip install joblib. If this warning is raised when loading pickled models, you may need to re-serialize those models with scikit-learn 0.21+.\n",
      "\n"
     ]
    }
   ],
   "source": [
    "import pandas as pd\n",
    "from sklearn.preprocessing import StandardScaler\n",
    "import xgboost as xgb\n",
    "import plotly.graph_objects as go\n",
    "from plotly.subplots import make_subplots\n",
    "import matplotlib.pyplot as plt\n",
    "import numpy as np\n",
    "from sklearn.ensemble import RandomForestRegressor\n",
    "from sklearn.externals.joblib import dump, load"
   ]
  },
  {
   "cell_type": "code",
   "execution_count": 7,
   "metadata": {},
   "outputs": [],
   "source": [
    "neighborhood_model_df = pd.read_csv('data/trips/neighborhood_model.csv')"
   ]
  },
  {
   "cell_type": "code",
   "execution_count": null,
   "metadata": {},
   "outputs": [],
   "source": [
    "neighborhood_model_df"
   ]
  },
  {
   "cell_type": "code",
   "execution_count": null,
   "metadata": {},
   "outputs": [],
   "source": [
    "neighborhood_list = list(neighborhood_model_df.start_neighborhood.unique())"
   ]
  },
  {
   "cell_type": "code",
   "execution_count": null,
   "metadata": {},
   "outputs": [],
   "source": [
    "def get_neighborhood_model(neighborhood_name):\n",
    "    df = neighborhood_model_df.loc[neighborhood_model_df['start_neighborhood'] == neighborhood_name]\n",
    "    df['start_date'] = pd.to_datetime(df['start_date'])\n",
    "    df = df.set_index('start_date')\n",
    "    df = pd.get_dummies(df,drop_first=True, columns=['precip_cat', 'weekday_weekend'])\n",
    "    df_2018 = df.loc['2018-01-01':'2018-12-31']\n",
    "    df_2019 = df.loc['2019-01-01':'2019-12-31']\n",
    "    ride_counts_2018 = df_2018.resample('H').count()\n",
    "    ride_counts_2019 = df_2019.resample('H').count()\n",
    "    df_2018 = df_2018.resample('H').mean()\n",
    "    df_2019 = df_2019.resample('H').mean()\n",
    "    df_2018['ride_count'] = ride_counts_2018['hour_x']\n",
    "    df_2019['ride_count'] = ride_counts_2019['hour_x']\n",
    "    df_2019 = df_2019.fillna(0)\n",
    "    df_2018 = df_2018.fillna(0)\n",
    "    y_train = df_2018[['ride_count']]\n",
    "    x_train = df_2018.drop(columns=['ride_count'])\n",
    "    y_test = df_2019[['ride_count']]\n",
    "    x_test = df_2019.drop(columns=['ride_count'])\n",
    "    scaler = StandardScaler()\n",
    "    scaler.fit(x_train)\n",
    "    x_train_scaled = scaler.transform(x_train)\n",
    "    x_test_scaled = scaler.transform(x_test)\n",
    "    bst = xgb.XGBRegressor(max_depth=6)\n",
    "    bst.fit(x_train_scaled, y_train)\n",
    "    y_pred = bst.predict(x_test_scaled)\n",
    "    df_2019['y_pred'] = y_pred\n",
    "    train_score = bst.score(x_train_scaled, y_train)\n",
    "    test_score = bst.score(x_test_scaled, y_test)\n",
    "    # Make subplot figure \n",
    "    fig = make_subplots(specs=[[{\"secondary_y\": True}]])\n",
    "\n",
    "    # Add traces; weekday and weekend aggregate rides\n",
    "    fig.add_trace(go.Scatter(x=df_2019.index, y=df_2019['ride_count'], name=\"Actual Number of Rides Each Hour\",\n",
    "                             line_color='red'))\n",
    "    fig.add_trace(go.Scatter(x=df_2019.index, y=df_2019['y_pred'], name=\"Predicted Rides Each Hour\",\n",
    "                             line_color='black'), secondary_y=False)\n",
    "\n",
    "    fig.update_layout(title_text='Predicted and Actual Rides Each Hour, {}'.format(neighborhood_name))\n",
    "\n",
    "    # Set x-axis title\n",
    "    fig.update_xaxes(title_text=\"Hour of Day\")\n",
    "\n",
    "    # Set y-axes titles\n",
    "    fig.update_yaxes(title_text=\"<b>Numer of Rides</b> initiated\", secondary_y=False)\n",
    "    fig.update_yaxes(title_text=\"<b>Rides</b>\", secondary_y=False)\n",
    "\n",
    "    # Include x-axis slider\n",
    "    fig.update_layout(xaxis_rangeslider_visible=True)\n",
    "\n",
    "    fig.show()"
   ]
  },
  {
   "cell_type": "code",
   "execution_count": null,
   "metadata": {},
   "outputs": [],
   "source": [
    "neighborhood_list"
   ]
  },
  {
   "cell_type": "code",
   "execution_count": null,
   "metadata": {},
   "outputs": [],
   "source": [
    "get_neighborhood_model('Near Southeast, Navy Yard')"
   ]
  },
  {
   "cell_type": "code",
   "execution_count": null,
   "metadata": {
    "scrolled": true
   },
   "outputs": [],
   "source": [
    "for neighborhood in neighborhood_list:\n",
    "    get_neighborhood_model(neighborhood)"
   ]
  },
  {
   "cell_type": "code",
   "execution_count": 2,
   "metadata": {},
   "outputs": [],
   "source": [
    "full_df = pd.read_csv('data/trips/full.csv')"
   ]
  },
  {
   "cell_type": "code",
   "execution_count": 3,
   "metadata": {},
   "outputs": [],
   "source": [
    "def get_full_model(df):\n",
    "    df['start_date'] = pd.to_datetime(df['start_date'])\n",
    "    df = df.set_index('start_date')\n",
    "    neighborhood_list = pd.DataFrame(df['start_neighborhood'])\n",
    "    neighborhood_list.to_csv('models/neighborhood_list.csv')\n",
    "    print([df.columns])\n",
    "    df = pd.get_dummies(df,drop_first=True, columns=['precip_cat', 'weekday_weekend', 'start_neighborhood'])\n",
    "    df_2018 = df.loc['2018-01-01':'2018-12-31']\n",
    "    df_2019 = df.loc['2019-01-01':'2019-12-31']\n",
    "    ride_counts_2018 = df_2018.resample('H').count()\n",
    "    ride_counts_2019 = df_2019.resample('H').count()\n",
    "    df_2018 = df_2018.resample('H').mean()\n",
    "    df_2019 = df_2019.resample('H').mean()\n",
    "    df_2018['ride_count'] = ride_counts_2018['hour_x']\n",
    "    df_2019['ride_count'] = ride_counts_2019['hour_x']\n",
    "    df_2019 = df_2019.fillna(0)\n",
    "    df_2018 = df_2018.fillna(0)\n",
    "    y_train = df_2018[['ride_count']]\n",
    "    x_train = df_2018.drop(columns=['ride_count'])\n",
    "    y_test = df_2019[['ride_count']]\n",
    "    x_test = df_2019.drop(columns=['ride_count'])\n",
    "    scaler = StandardScaler()\n",
    "    scaler.fit(x_train)\n",
    "    x_train_scaled = scaler.transform(x_train)\n",
    "    x_test_scaled = scaler.transform(x_test)\n",
    "    bst = xgb.XGBRegressor(max_depth=6, n_estimators=500)\n",
    "    bst.fit(x_train_scaled, y_train)\n",
    "    y_pred = bst.predict(x_test_scaled)\n",
    "    df_2019['y_pred'] = y_pred\n",
    "    train_score = bst.score(x_train_scaled, y_train)\n",
    "    test_score = bst.score(x_test_scaled, y_test)\n",
    "    bst.save_model('models/20191126_xgb.model')\n",
    "    dump(scaler, 'models/20191126_scaler.bin', compress=True)\n",
    "    print(x_test.shape)\n",
    "    print(train_score)\n",
    "    print(test_score)\n",
    "    print(bst.feature_importances_)\n",
    "    # Make subplot figure \n",
    "    fig = make_subplots(specs=[[{\"secondary_y\": True}]])\n",
    "\n",
    "    # Add traces; weekday and weekend aggregate rides\n",
    "    fig.add_trace(go.Scatter(x=df_2019.index, y=df_2019['ride_count'], name=\"Actual Number of Rides Each Hour\",\n",
    "                             line_color='red'))\n",
    "    fig.add_trace(go.Scatter(x=df_2019.index, y=df_2019['y_pred'], name=\"Predicted Rides Each Hour\",\n",
    "                             line_color='black'), secondary_y=False)\n",
    "\n",
    "    fig.update_layout(title_text='Predicted and Actual Rides Each Hour')\n",
    "\n",
    "    # Set x-axis title\n",
    "    fig.update_xaxes(title_text=\"Hour of Day\")\n",
    "\n",
    "    # Set y-axes titles\n",
    "    fig.update_yaxes(title_text=\"<b>Numer of Rides</b> initiated\", secondary_y=False)\n",
    "    fig.update_yaxes(title_text=\"<b>Rides</b>\", secondary_y=False)\n",
    "\n",
    "    # Include x-axis slider\n",
    "    fig.update_layout(xaxis_rangeslider_visible=True)\n",
    "\n",
    "    \n",
    "    fig.update_layout(\n",
    "    xaxis=go.layout.XAxis(\n",
    "        rangeselector=dict(\n",
    "            buttons=list([\n",
    "                dict(count=1,\n",
    "                     label=\"1d\",\n",
    "                     step=\"day\",\n",
    "                     stepmode=\"backward\"),\n",
    "                dict(count=7,\n",
    "                     label=\"1w\",\n",
    "                     step=\"day\",\n",
    "                     stepmode=\"backward\"),\n",
    "                dict(count=1,\n",
    "                     label=\"1m\",\n",
    "                     step=\"month\",\n",
    "                     stepmode=\"backward\"),\n",
    "                dict(count=6,\n",
    "                     label=\"6m\",\n",
    "                     step=\"month\",\n",
    "                     stepmode=\"backward\"),\n",
    "                dict(step=\"all\")\n",
    "            ])\n",
    "        ),\n",
    "        rangeslider=dict(\n",
    "            visible=True\n",
    "        ),\n",
    "        type=\"date\"\n",
    "    )\n",
    "    )\n",
    "    fig.show()\n",
    "    \n",
    "    n_features = x_train.shape[1]\n",
    "    plt.figure(figsize=(15,9))\n",
    "    plt.barh(range(n_features), bst.feature_importances_, align='center') \n",
    "    plt.yticks(np.arange(n_features), x_train.columns.values) \n",
    "    plt.xlabel(\"Feature importance\")\n",
    "    plt.ylabel(\"Feature\")\n",
    "    print(range(n_features))"
   ]
  },
  {
   "cell_type": "code",
   "execution_count": null,
   "metadata": {
    "scrolled": false
   },
   "outputs": [],
   "source": [
    "get_full_model(neighborhood_model_df)"
   ]
  },
  {
   "cell_type": "code",
   "execution_count": 4,
   "metadata": {},
   "outputs": [],
   "source": [
    "def get_good_model(df):\n",
    "    df['start_date'] = pd.to_datetime(df['start_date'])\n",
    "    df = df.set_index('start_date')\n",
    "    df = pd.get_dummies(df,drop_first=True, columns=['precip_cat', 'weekday_weekend'])\n",
    "    df_2018 = df.loc['2018-01-01':'2018-12-31']\n",
    "    df_2019 = df.loc['2019-01-01':'2019-12-31']\n",
    "    ride_counts_2018 = df_2018.resample('H').count()\n",
    "    ride_counts_2019 = df_2019.resample('H').count()\n",
    "    df_2018 = df_2018.resample('H').mean()\n",
    "    df_2019 = df_2019.resample('H').mean()\n",
    "    df_2018['ride_count'] = ride_counts_2018['hour_x']\n",
    "    df_2019['ride_count'] = ride_counts_2019['hour_x']\n",
    "    df_2019 = df_2019.fillna(0)\n",
    "    df_2018 = df_2018.fillna(0)\n",
    "    y_train = df_2018[['ride_count']]\n",
    "    x_train = df_2018.drop(columns=['ride_count'])\n",
    "    y_test = df_2019[['ride_count']]\n",
    "    x_test = df_2019.drop(columns=['ride_count'])\n",
    "    scaler = StandardScaler()\n",
    "    scaler.fit(x_train)\n",
    "    x_train_scaled = scaler.transform(x_train)\n",
    "    x_test_scaled = scaler.transform(x_test)\n",
    "    bst = xgb.XGBRegressor(max_depth=6, n_estimators=500)\n",
    "    bst.fit(x_train_scaled, y_train)\n",
    "    y_pred = bst.predict(x_test_scaled)\n",
    "    df_2019['y_pred'] = y_pred\n",
    "    train_score = bst.score(x_train_scaled, y_train)\n",
    "    pd.to_pickle(x_test, 'x_test.pickle')\n",
    "    pd.to_pickle(df_2019, 'df_2019.pickle')\n",
    "    test_score = bst.score(x_test_scaled, y_test)\n",
    "    bst.save_model('models/20191205_xgb.model')\n",
    "    dump(scaler, 'models/20191205_scaler.bin', compress=True)\n",
    "    print(x_test.shape)\n",
    "    print(train_score)\n",
    "    print(test_score)\n",
    "    print(bst.feature_importances_)\n",
    "    # Make subplot figure \n",
    "    fig = make_subplots(specs=[[{\"secondary_y\": True}]])\n",
    "\n",
    "    # Add traces; weekday and weekend aggregate rides\n",
    "    fig.add_trace(go.Scatter(x=df_2019.index, y=df_2019['ride_count'], name=\"Actual Number of Rides Each Hour\",\n",
    "                             line_color='red'))\n",
    "    fig.add_trace(go.Scatter(x=df_2019.index, y=df_2019['y_pred'], name=\"Predicted Rides Each Hour\",\n",
    "                             line_color='black'), secondary_y=False)\n",
    "\n",
    "    fig.update_layout(title_text='Predicted and Actual Rides Each Hour')\n",
    "\n",
    "    # Set x-axis title\n",
    "    fig.update_xaxes(title_text=\"Hour of Day\")\n",
    "\n",
    "    # Set y-axes titles\n",
    "    fig.update_yaxes(title_text=\"<b>Numer of Rides</b> initiated\", secondary_y=False)\n",
    "    fig.update_yaxes(title_text=\"<b>Rides</b>\", secondary_y=False)\n",
    "\n",
    "    # Include x-axis slider\n",
    "    fig.update_layout(xaxis_rangeslider_visible=True)\n",
    "\n",
    "    \n",
    "    fig.update_layout(\n",
    "    xaxis=go.layout.XAxis(\n",
    "        rangeselector=dict(\n",
    "            buttons=list([\n",
    "                dict(count=1,\n",
    "                     label=\"1d\",\n",
    "                     step=\"day\",\n",
    "                     stepmode=\"backward\"),\n",
    "                dict(count=7,\n",
    "                     label=\"1w\",\n",
    "                     step=\"day\",\n",
    "                     stepmode=\"backward\"),\n",
    "                dict(count=1,\n",
    "                     label=\"1m\",\n",
    "                     step=\"month\",\n",
    "                     stepmode=\"backward\"),\n",
    "                dict(count=6,\n",
    "                     label=\"6m\",\n",
    "                     step=\"month\",\n",
    "                     stepmode=\"backward\"),\n",
    "                dict(step=\"all\")\n",
    "            ])\n",
    "        ),\n",
    "        rangeslider=dict(\n",
    "            visible=True\n",
    "        ),\n",
    "        type=\"date\"\n",
    "    )\n",
    "    )\n",
    "    fig.show()\n",
    "    \n",
    "    n_features = x_train.shape[1]\n",
    "    plt.figure(figsize=(15,9))\n",
    "    plt.barh(range(n_features), bst.feature_importances_, align='center') \n",
    "    plt.yticks(np.arange(n_features), x_train.columns.values) \n",
    "    plt.xlabel(\"Feature importance\")\n",
    "    plt.ylabel(\"Feature\")\n",
    "    print(range(n_features))\n",
    "    print(x_train)\n",
    "    print(x_train_scaled)"
   ]
  },
  {
   "cell_type": "markdown",
   "metadata": {},
   "source": [
    "# Ride Count Prediction Testing"
   ]
  },
  {
   "cell_type": "code",
   "execution_count": null,
   "metadata": {},
   "outputs": [],
   "source": [
    "input1 = 75"
   ]
  },
  {
   "cell_type": "code",
   "execution_count": null,
   "metadata": {},
   "outputs": [],
   "source": [
    "input2 = 20"
   ]
  },
  {
   "cell_type": "code",
   "execution_count": null,
   "metadata": {},
   "outputs": [],
   "source": [
    "input3 = 6"
   ]
  },
  {
   "cell_type": "code",
   "execution_count": null,
   "metadata": {},
   "outputs": [],
   "source": [
    "input4 = 'rain'"
   ]
  },
  {
   "cell_type": "code",
   "execution_count": null,
   "metadata": {},
   "outputs": [],
   "source": [
    "input5 = 'weekday'"
   ]
  },
  {
   "cell_type": "code",
   "execution_count": null,
   "metadata": {},
   "outputs": [],
   "source": [
    "model_dict = {'temperature': input1, 'hour': input2, 'month': input3, 'precip': input4, 'weekday': input5}"
   ]
  },
  {
   "cell_type": "code",
   "execution_count": null,
   "metadata": {},
   "outputs": [],
   "source": [
    "model_df = pd.DataFrame([model_dict])"
   ]
  },
  {
   "cell_type": "code",
   "execution_count": null,
   "metadata": {},
   "outputs": [],
   "source": [
    "model_df"
   ]
  },
  {
   "cell_type": "code",
   "execution_count": null,
   "metadata": {},
   "outputs": [],
   "source": [
    "model_df['hour_x']=np.sin(2.*np.pi*model_df.hour/24.)\n",
    "model_df['hour_y']=np.cos(2.*np.pi*model_df.hour/24.)"
   ]
  },
  {
   "cell_type": "code",
   "execution_count": null,
   "metadata": {},
   "outputs": [],
   "source": [
    "model_df.drop('hour', axis=1, inplace=True)"
   ]
  },
  {
   "cell_type": "code",
   "execution_count": null,
   "metadata": {},
   "outputs": [],
   "source": [
    "model_df"
   ]
  },
  {
   "cell_type": "code",
   "execution_count": null,
   "metadata": {},
   "outputs": [],
   "source": [
    "model_df['month_x']=np.sin(2.*np.pi*model_df.month/12.)\n",
    "model_df['month_y']=np.cos(2.*np.pi*model_df.month/12.)"
   ]
  },
  {
   "cell_type": "code",
   "execution_count": null,
   "metadata": {},
   "outputs": [],
   "source": [
    "model_df"
   ]
  },
  {
   "cell_type": "code",
   "execution_count": null,
   "metadata": {
    "scrolled": false
   },
   "outputs": [],
   "source": [
    "model_df.precip = model_df['precip'].astype('category', categories=['rain', 'trace', 'no rain'])\n",
    "model_df.weekday = model_df['weekday'].astype('category', categories=['weekday', 'weekend'])"
   ]
  },
  {
   "cell_type": "code",
   "execution_count": null,
   "metadata": {
    "scrolled": true
   },
   "outputs": [],
   "source": [
    "model_df.dtypes"
   ]
  },
  {
   "cell_type": "code",
   "execution_count": null,
   "metadata": {},
   "outputs": [],
   "source": [
    "model_df = pd.get_dummies(model_df, drop_first=False, columns=['precip', 'weekday'])"
   ]
  },
  {
   "cell_type": "code",
   "execution_count": null,
   "metadata": {},
   "outputs": [],
   "source": [
    "model_df"
   ]
  },
  {
   "cell_type": "code",
   "execution_count": null,
   "metadata": {},
   "outputs": [],
   "source": [
    "model_df = model_df[['temperature', 'hour_x', 'hour_y', 'month_x', 'month_y', 'precip_trace', 'precip_rain', 'weekday_weekend']]"
   ]
  },
  {
   "cell_type": "code",
   "execution_count": null,
   "metadata": {},
   "outputs": [],
   "source": [
    "model_df"
   ]
  },
  {
   "cell_type": "code",
   "execution_count": null,
   "metadata": {},
   "outputs": [],
   "source": [
    "bst = xgb.Booster()"
   ]
  },
  {
   "cell_type": "code",
   "execution_count": null,
   "metadata": {},
   "outputs": [],
   "source": [
    "bst.load_model('models/20191205_xgb.model')"
   ]
  },
  {
   "cell_type": "code",
   "execution_count": null,
   "metadata": {},
   "outputs": [],
   "source": [
    "scaler = load('models/20191205_scaler.bin')"
   ]
  },
  {
   "cell_type": "code",
   "execution_count": null,
   "metadata": {},
   "outputs": [],
   "source": [
    "scaled_model_df = scaler.transform(model_df)"
   ]
  },
  {
   "cell_type": "code",
   "execution_count": null,
   "metadata": {},
   "outputs": [],
   "source": [
    "scaled_model_df"
   ]
  },
  {
   "cell_type": "code",
   "execution_count": null,
   "metadata": {},
   "outputs": [],
   "source": [
    "scaled_dmatrix = xgb.DMatrix(scaled_model_df, feature_names=model_df.columns)"
   ]
  },
  {
   "cell_type": "code",
   "execution_count": null,
   "metadata": {},
   "outputs": [],
   "source": [
    "bst.predict(scaled_dmatrix)"
   ]
  },
  {
   "cell_type": "code",
   "execution_count": null,
   "metadata": {},
   "outputs": [],
   "source": [
    "model_dict = {'temperature': [input1, (input1-10), input1], 'hour': [input2, input2, (input2-12)], 'month': [input3, input3, input3], 'precip': [input4,input4,input4], 'weekday': [input5,input5,input5]}"
   ]
  },
  {
   "cell_type": "code",
   "execution_count": null,
   "metadata": {},
   "outputs": [],
   "source": [
    "def get_numbers(input1, input2, input3, input4, input5):\n",
    "    model_dict = {'temperature': [input1, (input1-10), input1], 'hour': [input2, input2, (input2-12)], 'month': [input3, input3, input3], 'precip': [input4,input4,input4], 'weekday': [input5,input5,input5]}\n",
    "    model_df = pd.DataFrame.from_dict(model_dict)\n",
    "    model_df['hour_x']=np.sin(2.*np.pi*model_df.hour/24.)\n",
    "    model_df['hour_y']=np.cos(2.*np.pi*model_df.hour/24.)\n",
    "    model_df.drop('hour', axis=1, inplace=True)\n",
    "    model_df['month_x']=np.sin(2.*np.pi*model_df.month/12.)\n",
    "    model_df['month_y']=np.cos(2.*np.pi*model_df.month/12.)\n",
    "    model_df.precip = model_df['precip'].astype('category', categories=['rain', 'trace', 'no rain'])\n",
    "    model_df.weekday = model_df['weekday'].astype('category', categories=['weekday', 'weekend'])\n",
    "    model_df = pd.get_dummies(model_df, drop_first=False, columns=['precip', 'weekday'])\n",
    "    model_df = model_df[['temperature', 'hour_x', 'hour_y', 'month_x', 'month_y', 'precip_trace', 'precip_rain', 'weekday_weekend']]\n",
    "    bst = xgb.Booster()\n",
    "    bst.load_model('models/20191205_xgb.model')\n",
    "    scaler = load('models/20191205_scaler.bin')\n",
    "    scaled_model_df = scaler.transform(model_df)\n",
    "    scaled_dmatrix = xgb.DMatrix(scaled_model_df, feature_names=model_df.columns)\n",
    "    numbers = bst.predict(scaled_dmatrix)\n",
    "    with open('x_test.pickle', 'rb') as handle:\n",
    "        x_test = pickle.load(handle)\n",
    "    x_test_scaled = scaler.transform(x_test)\n",
    "    scaled_full_dmatrix = xgb.DMatrix(x_test_scaled, feature_names=model_df.columns)\n",
    "    y_pred = bst.predict(scaled_full_dmatrix)\n",
    "    with open('df_2019.pickle', 'rb') as handle:\n",
    "        df_2019 = pickle.load(handle)\n",
    "    df_2019['y_pred'] = y_pred\n",
    "    \n",
    "    fig = make_subplots(specs=[[{\"secondary_y\": True}]])\n",
    "\n",
    "    # Add traces; weekday and weekend aggregate rides\n",
    "    fig.add_trace(go.Scatter(x=df_2019.index, y=df_2019['ride_count'], name=\"Actual Number of Rides Each Hour\",\n",
    "                             line_color='red'))\n",
    "    fig.add_trace(go.Scatter(x=df_2019.index, y=df_2019['y_pred'], name=\"Predicted Rides Each Hour\",\n",
    "                             line_color='black'), secondary_y=False)\n",
    "\n",
    "    fig.update_layout(title_text='Predicted and Actual Rides Each Hour')\n",
    "\n",
    "    # Set x-axis title\n",
    "    fig.update_xaxes(title_text=\"Hour of Day\")\n",
    "\n",
    "    # Set y-axes titles\n",
    "    fig.update_yaxes(title_text=\"<b>Numer of Rides</b> initiated\", secondary_y=False)\n",
    "    fig.update_yaxes(title_text=\"<b>Rides</b>\", secondary_y=False)\n",
    "\n",
    "    # Include x-axis slider\n",
    "    fig.update_layout(xaxis_rangeslider_visible=True)\n",
    "\n",
    "    \n",
    "    fig.update_layout(\n",
    "    xaxis=go.layout.XAxis(\n",
    "        rangeselector=dict(\n",
    "            buttons=list([\n",
    "                dict(count=1,\n",
    "                     label=\"1d\",\n",
    "                     step=\"day\",\n",
    "                     stepmode=\"backward\"),\n",
    "                dict(count=7,\n",
    "                     label=\"1w\",\n",
    "                     step=\"day\",\n",
    "                     stepmode=\"backward\"),\n",
    "                dict(count=1,\n",
    "                     label=\"1m\",\n",
    "                     step=\"month\",\n",
    "                     stepmode=\"backward\"),\n",
    "                dict(count=6,\n",
    "                     label=\"6m\",\n",
    "                     step=\"month\",\n",
    "                     stepmode=\"backward\"),\n",
    "                dict(step=\"all\")\n",
    "            ])\n",
    "        ),\n",
    "        rangeslider=dict(\n",
    "            visible=True\n",
    "        ),\n",
    "        type=\"date\"\n",
    "    )\n",
    "    )\n",
    "    fig.show()\n",
    "    display_df = pd.DataFrame(numbers)\n",
    "    display_df.index = ['Input Value', 'Subtract 10 Degrees', 'Add 12 Hours']\n",
    "    display_df.columns = ['Expected Ride Count']\n",
    "    figure = px.bar(display_df, x=display_df.index, y=display_df['Expected Ride Count'].values, labels={'y': 'Expected Ride Count'}, range_color='red')\n",
    "    figure.show()"
   ]
  },
  {
   "cell_type": "code",
   "execution_count": null,
   "metadata": {},
   "outputs": [],
   "source": [
    "import pickle\n",
    "import plotly.express as px"
   ]
  },
  {
   "cell_type": "code",
   "execution_count": null,
   "metadata": {
    "scrolled": false
   },
   "outputs": [],
   "source": [
    "prediction = get_numbers(95, 15, 6, 'no rain', 'weekday')"
   ]
  },
  {
   "cell_type": "code",
   "execution_count": null,
   "metadata": {
    "scrolled": true
   },
   "outputs": [],
   "source": [
    "display_df = pd.DataFrame(prediction)"
   ]
  },
  {
   "cell_type": "code",
   "execution_count": null,
   "metadata": {},
   "outputs": [],
   "source": [
    "display_df.index = ['Input Value', 'Subtract 10 Degrees', 'Add 12 Hours']"
   ]
  },
  {
   "cell_type": "code",
   "execution_count": null,
   "metadata": {},
   "outputs": [],
   "source": [
    "display_df.columns = ['Expected Ride Count']"
   ]
  },
  {
   "cell_type": "code",
   "execution_count": null,
   "metadata": {},
   "outputs": [],
   "source": [
    "display_df"
   ]
  },
  {
   "cell_type": "code",
   "execution_count": null,
   "metadata": {},
   "outputs": [],
   "source": [
    "import plotly.express as px"
   ]
  },
  {
   "cell_type": "code",
   "execution_count": null,
   "metadata": {
    "scrolled": true
   },
   "outputs": [],
   "source": [
    "fig = px.bar(display_df, x=display_df.index, y=display_df['Expected Ride Count'].values, labels={'y': 'Expected Ride Count'})\n",
    "fig.show()"
   ]
  }
 ],
 "metadata": {
  "kernelspec": {
   "display_name": "Python 3",
   "language": "python",
   "name": "python3"
  },
  "language_info": {
   "codemirror_mode": {
    "name": "ipython",
    "version": 3
   },
   "file_extension": ".py",
   "mimetype": "text/x-python",
   "name": "python",
   "nbconvert_exporter": "python",
   "pygments_lexer": "ipython3",
   "version": "3.7.3"
  }
 },
 "nbformat": 4,
 "nbformat_minor": 2
}
